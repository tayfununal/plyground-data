{
  "nbformat": 4,
  "nbformat_minor": 0,
  "metadata": {
    "colab": {
      "name": "visualization_dataset_in_plygdata.ipynb",
      "private_outputs": true,
      "provenance": [],
      "authorship_tag": "ABX9TyODyE7SyANSodrHPtI3pmCg",
      "include_colab_link": true
    },
    "kernelspec": {
      "name": "python3",
      "display_name": "Python 3"
    },
    "language_info": {
      "name": "python"
    }
  },
  "cells": [
    {
      "cell_type": "markdown",
      "metadata": {
        "id": "view-in-github",
        "colab_type": "text"
      },
      "source": [
        "<a href=\"https://colab.research.google.com/github/tayfununal/plyground-data/blob/main/visualization_dataset_in_plygdata.ipynb\" target=\"_parent\"><img src=\"https://colab.research.google.com/assets/colab-badge.svg\" alt=\"Open In Colab\"/></a>"
      ]
    },
    {
      "cell_type": "markdown",
      "metadata": {
        "id": "F8fPqPCoWzPv"
      },
      "source": [
        "# **How to produce dataset from playground-data which is python package?**"
      ]
    },
    {
      "cell_type": "markdown",
      "metadata": {
        "id": "IYn9rpYxXwDL"
      },
      "source": [
        "First, you need to install the package of playground-data using pip like below."
      ]
    },
    {
      "cell_type": "code",
      "metadata": {
        "id": "FlGEWPnUVPjR"
      },
      "source": [
        "!pip install playground-data"
      ],
      "execution_count": null,
      "outputs": []
    },
    {
      "cell_type": "markdown",
      "metadata": {
        "id": "pxyeW_DhYjsN"
      },
      "source": [
        "Then, import the packages you want."
      ]
    },
    {
      "cell_type": "code",
      "metadata": {
        "id": "YrPN6YPgVZpu"
      },
      "source": [
        "import plygdata as pg\n",
        "import matplotlib.pyplot as plt\n",
        "import pandas as pd\n",
        "\n",
        "%matplotlib inline\n",
        "plt.rcParams.update({'figure.figsize':(5,5), 'figure.dpi':100})\n",
        "plt.rcParams[\"font.family\"] = 'Times New Roman'"
      ],
      "execution_count": null,
      "outputs": []
    },
    {
      "cell_type": "markdown",
      "metadata": {
        "id": "3dM-Diq_Y11B"
      },
      "source": [
        ""
      ]
    },
    {
      "cell_type": "code",
      "metadata": {
        "id": "WG36kXIpVgPL"
      },
      "source": [
        "# XOR dataset\n",
        "data = pg.dataset.DataGenerator.classify_xor(1000, noise=0.1)\n",
        "\n",
        "# Display data with pandas\n",
        "data = pd.DataFrame(data, columns=['x1', 'x2','y'])\n",
        "\n",
        "# Using matplotlib.pyplot, visualization the XOR dataset \n",
        "plt.scatter(data[data['y']==-1]['x1'], data[data['y']==-1]['x2'], c='blue', marker='o', label='y = -1')\n",
        "plt.scatter(data[data['y']==1]['x1'], data[data['y']==1]['x2'], c='red', marker='^', label='y = 1')\n",
        "plt.xlabel('x1', fontsize=10, fontweight=\"bold\")\n",
        "plt.ylabel('x2', fontsize=10, fontweight=\"bold\")\n",
        "plt.title('XOR Dataset', fontsize=14, fontweight=\"bold\")\n",
        "plt.legend(loc='upper right')\n",
        "plt.show()"
      ],
      "execution_count": null,
      "outputs": []
    },
    {
      "cell_type": "code",
      "metadata": {
        "id": "iELZiLhKjJru"
      },
      "source": [
        "# Circle dataset\n",
        "data = pg.dataset.DataGenerator.classify_circle(1000, noise=0.1)\n",
        "\n",
        "# Display data with pandas\n",
        "data = pd.DataFrame(data, columns=['x1', 'x2','y'])\n",
        "\n",
        "# Using matplotlib.pyplot, visualization the XOR dataset \n",
        "plt.scatter(data[data['y']==-1]['x1'], data[data['y']==-1]['x2'], c='blue', marker='o', label='y = -1')\n",
        "plt.scatter(data[data['y']==1]['x1'], data[data['y']==1]['x2'], c='red', marker='^', label='y = 1')\n",
        "plt.xlabel('x1', fontsize=10, fontweight=\"bold\")\n",
        "plt.ylabel('x2', fontsize=10, fontweight=\"bold\")\n",
        "plt.title('Circle Dataset', fontsize=14, fontweight=\"bold\")\n",
        "plt.legend(loc='upper right')\n",
        "plt.show()"
      ],
      "execution_count": null,
      "outputs": []
    },
    {
      "cell_type": "code",
      "metadata": {
        "id": "fXDdPxMWjMEf"
      },
      "source": [
        "# Spiral dataset\n",
        "data = pg.dataset.DataGenerator.classify_spiral(1000, noise=0.1)\n",
        "\n",
        "# Display data with pandas\n",
        "data = pd.DataFrame(data, columns=['x1', 'x2','y'])\n",
        "\n",
        "# Using matplotlib.pyplot, visualization the XOR dataset \n",
        "plt.scatter(data[data['y']==-1]['x1'], data[data['y']==-1]['x2'], c='blue', marker='o', label='y = -1')\n",
        "plt.scatter(data[data['y']==1]['x1'], data[data['y']==1]['x2'], c='red', marker='^', label='y = 1')\n",
        "plt.xlabel('x1', fontsize=10, fontweight=\"bold\")\n",
        "plt.ylabel('x2', fontsize=10, fontweight=\"bold\")\n",
        "plt.title('Spiral Dataset', fontsize=14, fontweight=\"bold\")\n",
        "plt.legend(loc='upper right')\n",
        "plt.show()"
      ],
      "execution_count": null,
      "outputs": []
    },
    {
      "cell_type": "code",
      "metadata": {
        "id": "b1vq1nIqjRgA"
      },
      "source": [
        "# Gauss dataset\n",
        "data = pg.dataset.DataGenerator.classify_two_gauss(1000, noise=0.1)\n",
        "\n",
        "# Display data with pandas\n",
        "data = pd.DataFrame(data, columns=['x1', 'x2','y'])\n",
        "\n",
        "# Using matplotlib.pyplot, visualization the XOR dataset \n",
        "plt.scatter(data[data['y']==-1]['x1'], data[data['y']==-1]['x2'], c='blue', marker='o', label='y = -1')\n",
        "plt.scatter(data[data['y']==1]['x1'], data[data['y']==1]['x2'], c='red', marker='^', label='y = 1')\n",
        "plt.xlabel('x1', fontsize=10, fontweight=\"bold\")\n",
        "plt.ylabel('x2', fontsize=10, fontweight=\"bold\")\n",
        "plt.title('Gauss Dataset', fontsize=14, fontweight=\"bold\")\n",
        "plt.legend(loc='upper right')\n",
        "plt.show()"
      ],
      "execution_count": null,
      "outputs": []
    }
  ]
}